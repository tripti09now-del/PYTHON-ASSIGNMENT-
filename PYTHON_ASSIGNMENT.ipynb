{
  "nbformat": 4,
  "nbformat_minor": 0,
  "metadata": {
    "colab": {
      "provenance": []
    },
    "kernelspec": {
      "name": "python3",
      "display_name": "Python 3"
    },
    "language_info": {
      "name": "python"
    }
  },
  "cells": [
    {
      "cell_type": "markdown",
      "source": [
        "### **Theory question and Answer**"
      ],
      "metadata": {
        "id": "vdl9Vr3zlHQ9"
      }
    },
    {
      "cell_type": "markdown",
      "source": [
        "**1. What is python, and why is it popular?**\n",
        "\n",
        "* Python is an interpreted langugane and easy to learn programming language with its versatility, although widely used in neumors field like data science, web development, artifical intelligence, automation, machine learning and software development etc.\n",
        "\n",
        "* Furthermore it is easy to learn and understand for the reason that simple syntax. It can be used for numerous purpose. It has large community and library support across the world which makes problem solving easly.\n",
        "It is cross platform which means works on window, macbook and linux etc.\n",
        "\n"
      ],
      "metadata": {
        "id": "Z-FVycj05-hp"
      }
    },
    {
      "cell_type": "markdown",
      "source": [
        "**2. What is an interpreter in python?**\n",
        "* In python an interpreter is like a translator. It reads code line by line and tanslate in machine language then computer runs the code, however it does not need compilation, interpreter executes step by step therefore it is called interpreted language."
      ],
      "metadata": {
        "id": "0OjiJmKIBOIH"
      }
    },
    {
      "cell_type": "markdown",
      "source": [
        "**3. What are pre-defined keywords in python?**\n",
        "*  Pre-defined keywords in python are special reserved words that have already a fixed meaning in pyhton. You cannot use them as veriable names or function names because python uses them to understand code and runs\n",
        "\n"
      ],
      "metadata": {
        "id": "IXezQx_WFPLC"
      }
    },
    {
      "cell_type": "markdown",
      "source": [
        "**4. Can keywords be used as veriable name?**\n",
        "* No! Keywords cannot be used as veriable in python for the reason that it is already reserved special words which helps python to understand the code and run."
      ],
      "metadata": {
        "id": "IPrkR4hZIPjA"
      }
    },
    {
      "cell_type": "markdown",
      "source": [
        "**5. What is mutability in python?**\n",
        "* Mutability in python means whether an object can be changed after being created like list, dictionary and set."
      ],
      "metadata": {
        "id": "WGfg8SWbLv63"
      }
    },
    {
      "cell_type": "markdown",
      "source": [
        "**6. Why are list mutable, but tuple are immuntable?**\n",
        "* List is mutable because we can change, add, or remove items after creating it.\n",
        "Tuple is immutable because once it is created, we cannot change, add, or remove items inside it.\n",
        "Lists are designed for situations where data may need to be updated, while tuples are used when data should stay fixed and safe."
      ],
      "metadata": {
        "id": "ypPpi1cuSiKL"
      }
    },
    {
      "cell_type": "markdown",
      "source": [
        "**7. What is the difference between \"==\" and \"is\" operator in pyhton?**\n",
        "* \"==\" checks whether the valves of two objects are equal or not whereas \"is\" checks both objects refer to the same memory or not."
      ],
      "metadata": {
        "id": "h43j9hQibuDI"
      }
    },
    {
      "cell_type": "markdown",
      "source": [
        "**8. What are logical operator in python?**\n",
        "* Logical operator in python are **and**, **or**, **not** these are used to combine reserved conditional statment and always returns true or false information."
      ],
      "metadata": {
        "id": "hkosNr1Ufx9l"
      }
    },
    {
      "cell_type": "markdown",
      "source": [
        "**9. What is type casting in python?**\n",
        "* Type casting in Python is the process of converting one data type into another. For example, converting an integer into a float, a string into an integer, or a number into a string. Python provides built-in functions like int(), float(), and str() for type casting.\n"
      ],
      "metadata": {
        "id": "CthkbXcrhySm"
      }
    },
    {
      "cell_type": "markdown",
      "source": [
        "**10. What is the difference between implicit and explicit type casting?**\n",
        "* **Implicit Type Casting** (Type Conversion):\n",
        "Done automatically by Python.\n",
        "Example: x = 5 (int) + 2.5 (float) → result is 7.5 (float).\n",
        "* **Explicit Type Casting** (Type Casting):\n",
        "Done manually by the programmer using functions like int(), float(), str().\n",
        "Example: x = int(2.9) → result is 2."
      ],
      "metadata": {
        "id": "vPc7MGrDmp5f"
      }
    },
    {
      "cell_type": "markdown",
      "source": [
        "**11. What is the purpose of conditional statements in python?**\n",
        "* Conditional statements in Python are used for decision-making. They help a program check whether a condition is true or false and then execute specific code accordingly. This makes programs dynamic and able to respond to different situations.\n",
        "\n",
        "* For example:\n",
        "\n",
        "    **if** is used to check a condition.\n",
        "\n",
        "    **elif** is used to check another condition if the first is False.\n",
        "\n",
        "    **else** runs when none of the conditions are True."
      ],
      "metadata": {
        "id": "Hq_xVFaBo_MR"
      }
    },
    {
      "cell_type": "markdown",
      "source": [
        "**12. How does the elif statement work?**\n",
        "* The elif statement in Python stands for \"else if\". It is used to check multiple conditions in a program. After the if condition is checked, if it is False, then Python moves to the elif condition. If that is also False, it goes to the next elif or the else block. Only one block of code will run, the first one whose condition is True."
      ],
      "metadata": {
        "id": "9FUxNDz7pXui"
      }
    },
    {
      "cell_type": "markdown",
      "source": [
        "**13. What is the difference between for loop and while loop?**\n",
        "* The main difference between a for loop and a while loop is in how they control repetition:\n",
        "\n",
        "   A **for loop** is used when we know how many times we want to repeat a task. It does commonly to iterate over sequences like lists, strings, or a range of numbers.\n",
        "\n",
        "   A while loop is used when the number of repetitions is not fixed. It keeps running as long as the condition remains True."
      ],
      "metadata": {
        "id": "K83RhXVLsmNy"
      }
    },
    {
      "cell_type": "markdown",
      "source": [
        "**14. Describ a scenario where a while loop is more suitable than a for loop?**\n",
        "* A while loop is more suitable in situations where we don’t know beforehand how many times the loop will run. For example, if we are writing a program that asks the user to enter their password, we don’t know how many times the user might enter it incorrectly. In this case, we use a while loop, because it will keep repeating until the condition—entering the correct password—becomes true. Once the correct password is entered, the condition becomes false and the loop stops."
      ],
      "metadata": {
        "id": "JPaWeLIdwxyi"
      }
    },
    {
      "cell_type": "markdown",
      "source": [
        "## **Practical Question and Answer**"
      ],
      "metadata": {
        "id": "uof5_5YclX_P"
      }
    },
    {
      "cell_type": "markdown",
      "source": [
        "**1. Write a python program to print \"Hello, World!\"**"
      ],
      "metadata": {
        "id": "2zmDrRQ_JDJI"
      }
    },
    {
      "cell_type": "code",
      "source": [
        "print(\"Hello, World!\")"
      ],
      "metadata": {
        "colab": {
          "base_uri": "https://localhost:8080/"
        },
        "id": "sjobPye7wxYq",
        "outputId": "57e65dd5-9618-46ab-9a35-3305b6779bb1"
      },
      "execution_count": null,
      "outputs": [
        {
          "output_type": "stream",
          "name": "stdout",
          "text": [
            "Hello, World!\n"
          ]
        }
      ]
    },
    {
      "cell_type": "markdown",
      "source": [
        "**2. Write a python program that display your name and age.**"
      ],
      "metadata": {
        "id": "Fvs4_tJ3Ss44"
      }
    },
    {
      "cell_type": "code",
      "source": [
        "name = \"Aparna\"\n",
        "age = 24\n",
        "\n",
        "\"\"\"print(\"My name is name\", name, \"and my age is\", age)\"\"\"\n",
        "print(f\"My name is {name} and my age is {age}\")"
      ],
      "metadata": {
        "colab": {
          "base_uri": "https://localhost:8080/"
        },
        "id": "BfUdXFfzo8Zu",
        "outputId": "09e407c4-d021-498b-e21d-3cff84293211"
      },
      "execution_count": null,
      "outputs": [
        {
          "output_type": "stream",
          "name": "stdout",
          "text": [
            "My name is Aparna and my age is 24\n"
          ]
        }
      ]
    },
    {
      "cell_type": "code",
      "source": [],
      "metadata": {
        "id": "DmmwN1pOPQCr"
      },
      "execution_count": null,
      "outputs": []
    },
    {
      "cell_type": "markdown",
      "source": [
        "**3. Write code to print all pre-defined keywords in python using keywords library.**"
      ],
      "metadata": {
        "id": "DqNvP6ookmUs"
      }
    },
    {
      "cell_type": "code",
      "source": [
        "import keyword\n",
        "print(keyword.kwlist)\n",
        "print(f\"Total keyword in python: {len(keyword.kwlist)}\")"
      ],
      "metadata": {
        "id": "F8VfhI1SUbFT",
        "colab": {
          "base_uri": "https://localhost:8080/"
        },
        "outputId": "bff71794-d5ed-44a9-ac17-0d2e0bb34c3d"
      },
      "execution_count": null,
      "outputs": [
        {
          "output_type": "stream",
          "name": "stdout",
          "text": [
            "['False', 'None', 'True', 'and', 'as', 'assert', 'async', 'await', 'break', 'class', 'continue', 'def', 'del', 'elif', 'else', 'except', 'finally', 'for', 'from', 'global', 'if', 'import', 'in', 'is', 'lambda', 'nonlocal', 'not', 'or', 'pass', 'raise', 'return', 'try', 'while', 'with', 'yield']\n",
            "Total keyword in python: 35\n"
          ]
        }
      ]
    },
    {
      "cell_type": "markdown",
      "source": [
        "**4. Write a program that checks if a given word is a python keyword.**"
      ],
      "metadata": {
        "id": "G9UcBggwnxbR"
      }
    },
    {
      "cell_type": "code",
      "source": [
        "import keyword\n",
        "word = input(\"Enter a word: \")\n",
        "\n",
        "if keyword.iskeyword(word):\n",
        "  print(f\" {word} is a python keyword.\")\n",
        "else:\n",
        "  print(f\"{word} is a not python keyword.\")"
      ],
      "metadata": {
        "colab": {
          "base_uri": "https://localhost:8080/"
        },
        "id": "iDNg9gXpse88",
        "outputId": "ddc243c1-fe5f-48f0-b65f-1417356a745a"
      },
      "execution_count": null,
      "outputs": [
        {
          "output_type": "stream",
          "name": "stdout",
          "text": [
            "Enter a word: while\n",
            " while is a python keyword.\n"
          ]
        }
      ]
    },
    {
      "cell_type": "code",
      "source": [
        "print(keyword.iskeyword(\"if\"))"
      ],
      "metadata": {
        "colab": {
          "base_uri": "https://localhost:8080/"
        },
        "id": "fXji2gmRxk-N",
        "outputId": "c1601277-0f83-4992-8b56-d627dc149c79"
      },
      "execution_count": null,
      "outputs": [
        {
          "output_type": "stream",
          "name": "stdout",
          "text": [
            "True\n"
          ]
        }
      ]
    },
    {
      "cell_type": "markdown",
      "source": [
        "**5. Create a list and tuple in python and demonstrate how attempting to change an elements work differently**"
      ],
      "metadata": {
        "id": "R2k3miMew54a"
      }
    },
    {
      "cell_type": "code",
      "source": [
        "# list - mutable\n",
        "\n",
        "records = [\"apple\", 10, \"age\", \"chocalate\", 25]\n",
        "records [2] = \"height\"\n",
        "print(f\"Modified list {records}\")"
      ],
      "metadata": {
        "colab": {
          "base_uri": "https://localhost:8080/"
        },
        "id": "2XzCOYIy9xh_",
        "outputId": "5d788780-07c8-4af9-82f3-aee2cfc885f8"
      },
      "execution_count": null,
      "outputs": [
        {
          "output_type": "stream",
          "name": "stdout",
          "text": [
            "Modified list ['apple', 10, 'height', 'chocalate', 25]\n"
          ]
        }
      ]
    },
    {
      "cell_type": "code",
      "source": [
        "# tuple\n",
        "# Immutable   - tuple' object does not support item assignment.\n",
        "\n",
        "journal = (\"fruits\", \"vegiteble\", 174.5, 10)\n",
        "journal[2] = \"Height\"\n",
        "print(f\"Modified tuple {journal}\")"
      ],
      "metadata": {
        "id": "4RZ3WTFExC0W"
      },
      "execution_count": null,
      "outputs": []
    },
    {
      "cell_type": "markdown",
      "source": [
        "**6. Write a function to demonstrate the behevior of mutable and immutable arguments?**"
      ],
      "metadata": {
        "id": "r6RnrTv5CIXn"
      }
    },
    {
      "cell_type": "code",
      "source": [
        "# Mutable - (list, dictionary, tuple) can be changed after creating inside.\n",
        "# Immutable - Cannot be changed once it is created.\n"
      ],
      "metadata": {
        "id": "ZPTSletLwVsH"
      },
      "execution_count": null,
      "outputs": []
    },
    {
      "cell_type": "code",
      "source": [
        "\n",
        "  def change_values(age, fruits):\n",
        "    # Immutable (integer)\n",
        "    age = age + 2\n",
        "    print(\"Inside function (age):\", age)\n",
        "\n",
        "    # Mutable (list)\n",
        "    fruits.append(\"Mango\")\n",
        "    print(\"Inside function (fruits):\", fruits)\n",
        "\n",
        "\n",
        "# Test\n",
        "person_age = 20            # Immutable\n",
        "fruit_list = [\"Apple\", \"Banana\"]   # Mutable\n",
        "\n",
        "change_values(person_age, fruit_list)\n",
        "\n",
        "print(\"Outside function (age):\", person_age)   # remains 20 (unchanged)\n",
        "print(\"Outside function (fruits):\", fruit_list) # becomes [\"Apple\", \"Banana\", \"Mango\"]\n"
      ],
      "metadata": {
        "colab": {
          "base_uri": "https://localhost:8080/"
        },
        "id": "xnxcrUAjhc3R",
        "outputId": "d169278b-e9fa-4ae5-843e-1341766536d7"
      },
      "execution_count": null,
      "outputs": [
        {
          "output_type": "stream",
          "name": "stdout",
          "text": [
            "Inside function (age): 22\n",
            "Inside function (fruits): ['Apple', 'Banana', 'Mango']\n",
            "Outside function (age): 20\n",
            "Outside function (fruits): ['Apple', 'Banana', 'Mango']\n"
          ]
        }
      ]
    },
    {
      "cell_type": "markdown",
      "source": [
        "**7. Write a program that performs basic arithmetic operations on two user-input numbers.**"
      ],
      "metadata": {
        "id": "WNNdDvX_GDZ7"
      }
    },
    {
      "cell_type": "code",
      "source": [
        "num1 = int(input(\"Enter first number: \"))\n",
        "num2 = int(input(\"Enter second number: \"))\n",
        "\n",
        "addition = num1 + num2\n",
        "subtraction = num1 - num2\n",
        "multiplication = num1 * num2\n",
        "division = num1 / num2\n",
        "\n",
        "'''print(\"Additon:\", num1 + num2)\n",
        "print(\"Subtraction:\", num1 - num2)\n",
        "print(\"Multiplication:\", num1 * num2)\n",
        "print(\"Division:\", num1 / num2)'''\n",
        "\n",
        "print(f\"Addition: {addition}\")\n",
        "print(f\"Subtraction: {subtraction}\")\n",
        "print(f\"Multiplication: {multiplication}\")\n",
        "print(f\"Division: {division}\")"
      ],
      "metadata": {
        "colab": {
          "base_uri": "https://localhost:8080/"
        },
        "id": "1ywwtzSedNHr",
        "outputId": "791c9c4c-8674-4d5d-c7d7-f94aa6424d3f"
      },
      "execution_count": null,
      "outputs": [
        {
          "output_type": "stream",
          "name": "stdout",
          "text": [
            "Enter first number: 10\n",
            "Enter second number: 10\n",
            "Addition: 20\n",
            "Subtraction: 0\n",
            "Multiplication: 100\n",
            "Division: 1.0\n"
          ]
        }
      ]
    },
    {
      "cell_type": "markdown",
      "source": [
        "**8. Write a program to demonstrate the use of logical operators.**"
      ],
      "metadata": {
        "id": "HgoXCZNjl3lM"
      }
    },
    {
      "cell_type": "code",
      "source": [
        "a = True\n",
        "b = False\n",
        "\n",
        "print(f\"a and b: {b and b}\")\n",
        "print(f\"a or b: {a or b}\")\n",
        "print(f\"not a: {not a}\")\n",
        "print(f\"not b: {not b}\")"
      ],
      "metadata": {
        "colab": {
          "base_uri": "https://localhost:8080/"
        },
        "id": "uzNC9w59eEfe",
        "outputId": "2507a05f-439e-4a5f-85f7-6af90cf9c21c"
      },
      "execution_count": null,
      "outputs": [
        {
          "output_type": "stream",
          "name": "stdout",
          "text": [
            "a and b: False\n",
            "a or b: True\n",
            "not a: False\n",
            "not b: True\n"
          ]
        }
      ]
    },
    {
      "cell_type": "markdown",
      "source": [
        "**9. Write a python program to covert user input string to integer, float and boolean types.**\n"
      ],
      "metadata": {
        "id": "Yin14VHIuGsi"
      }
    },
    {
      "cell_type": "code",
      "source": [
        "user1 = input(\"Enter something: \")\n",
        "\n",
        "# Convert integer\n",
        "user1 = int(user1)\n",
        "print(f\"Integer Values: {user1} \")\n",
        "\n",
        "# Convert to float\n",
        "user1 = float(user1)\n",
        "print(f\"Float Values: {user1} \")\n",
        "\n",
        "# Convert to boolean\n",
        "user1 = bool(user1)\n",
        "print(f\"Boolean values: {user1} \")\n",
        "\n"
      ],
      "metadata": {
        "colab": {
          "base_uri": "https://localhost:8080/"
        },
        "id": "1L4XKpzWmror",
        "outputId": "bcff7325-bfce-4ea7-f09f-4fbfd4414cb4"
      },
      "execution_count": null,
      "outputs": [
        {
          "output_type": "stream",
          "name": "stdout",
          "text": [
            "Enter something: 9892\n",
            "Integer Values: 9892 \n",
            "Float Values: 9892.0 \n",
            "Boolean values: True \n"
          ]
        }
      ]
    },
    {
      "cell_type": "markdown",
      "source": [
        "**10. Write code to demonstrate type casting with list elements.**"
      ],
      "metadata": {
        "id": "Z40K65Pd1q1p"
      }
    },
    {
      "cell_type": "code",
      "source": [
        "# Original list with string numbers\n",
        "\n",
        "my_list = [\"10\", \"20\", \"30\", \"40\"]\n",
        "\n",
        "int_list = []\n",
        "float_list = []\n",
        "str_list = []\n",
        "\n",
        "for item in my_list:\n",
        "    int_list.append(int(item))\n",
        "    float_list.append(float(item))\n",
        "    str_list.append(str(item))\n",
        "\n",
        "print(\"Integer list:\", int_list)\n",
        "print(\"Float list:\", float_list)\n",
        "print(\"String list:\", str_list)\n",
        "\n"
      ],
      "metadata": {
        "colab": {
          "base_uri": "https://localhost:8080/"
        },
        "id": "Rc0w9s25v0M3",
        "outputId": "6b00d6f0-77ae-47f5-b46b-85eea8fff6e9"
      },
      "execution_count": null,
      "outputs": [
        {
          "output_type": "stream",
          "name": "stdout",
          "text": [
            "Integer list: [10, 20, 30, 40]\n",
            "Float list: [10.0, 20.0, 30.0, 40.0]\n",
            "String list: ['10', '20', '30', '40']\n"
          ]
        }
      ]
    },
    {
      "cell_type": "markdown",
      "source": [
        "**11. Write a program that checks if a number is positive, negative or zero**"
      ],
      "metadata": {
        "id": "PLm-qViS7chC"
      }
    },
    {
      "cell_type": "code",
      "source": [
        "num = int(input(\"Enter Number: \"))\n",
        "\n",
        "if num < 0:\n",
        "  print(\"Negative.\")\n",
        "elif num > 0:\n",
        "  print(\"Positive.\")\n",
        "else:\n",
        "  print(\"Zero\")"
      ],
      "metadata": {
        "colab": {
          "base_uri": "https://localhost:8080/"
        },
        "id": "no2usKEryUSg",
        "outputId": "3320a242-c60d-4b3d-9c5b-0e1b3b2e0302"
      },
      "execution_count": null,
      "outputs": [
        {
          "output_type": "stream",
          "name": "stdout",
          "text": [
            "Enter Number: 0\n",
            "Zero\n"
          ]
        }
      ]
    },
    {
      "cell_type": "markdown",
      "source": [
        "**12. While a for loop to print numbers from 1 to 10.**"
      ],
      "metadata": {
        "id": "vl8qvRUR-4pr"
      }
    },
    {
      "cell_type": "code",
      "source": [
        "# for loop\n",
        "\n",
        "for a in range(1, 11):\n",
        "  print(a)"
      ],
      "metadata": {
        "colab": {
          "base_uri": "https://localhost:8080/"
        },
        "id": "eG6ar7SU9NBR",
        "outputId": "73c04da8-825d-43a2-9153-db4711497fb8"
      },
      "execution_count": null,
      "outputs": [
        {
          "output_type": "stream",
          "name": "stdout",
          "text": [
            "1\n",
            "2\n",
            "3\n",
            "4\n",
            "5\n",
            "6\n",
            "7\n",
            "8\n",
            "9\n",
            "10\n"
          ]
        }
      ]
    },
    {
      "cell_type": "markdown",
      "source": [
        "**13. Write a python program to find the sum of all even number between 1 to 50.**"
      ],
      "metadata": {
        "id": "YgEiXLJFB9bT"
      }
    },
    {
      "cell_type": "code",
      "source": [
        "total = 0\n",
        "\n",
        "for i in range(1, 51):\n",
        "  if i % 2 == 0:\n",
        "    total = total + i\n",
        "\n",
        "print(\"Sum of even numbers from 1 to 50 is:\", total)"
      ],
      "metadata": {
        "colab": {
          "base_uri": "https://localhost:8080/"
        },
        "id": "AxMtFEPKF_AV",
        "outputId": "26905bc4-4478-4da6-e37f-ae3ff0bc41c4"
      },
      "execution_count": null,
      "outputs": [
        {
          "output_type": "stream",
          "name": "stdout",
          "text": [
            "Sum of even numbers from 1 to 50 is: 650\n"
          ]
        }
      ]
    },
    {
      "cell_type": "markdown",
      "source": [
        "**14. Write a program to reverse a string using a while loop.**"
      ],
      "metadata": {
        "id": "nCdaowIyHpPo"
      }
    },
    {
      "cell_type": "code",
      "source": [
        "word = \"Carrot\"\n",
        "reversed_word = \"\"\n",
        "i = len(word) - 1\n",
        "\n",
        "while i >= 0:\n",
        "    reversed_word += word[i]\n",
        "    i -= 1\n",
        "\n",
        "print(reversed_word)"
      ],
      "metadata": {
        "colab": {
          "base_uri": "https://localhost:8080/"
        },
        "id": "a71Bbzx7Gt7m",
        "outputId": "d701e5fc-e117-495f-a839-de0e849ac4a4"
      },
      "execution_count": null,
      "outputs": [
        {
          "output_type": "stream",
          "name": "stdout",
          "text": [
            "torraC\n"
          ]
        }
      ]
    },
    {
      "cell_type": "markdown",
      "source": [
        "**15. Write a python program to calculate the factorial of a number provided by the user using a while loop.**"
      ],
      "metadata": {
        "id": "NirvalwyJ1NW"
      }
    },
    {
      "cell_type": "code",
      "source": [
        "num = int(input(\"Enter a number: \"))\n",
        "\n",
        "factorial = 1   # start with 1 because multplyig with 0 makes everything 0\n",
        "i = 1\n",
        "\n",
        "while i <= num:\n",
        "    factorial = factorial * i   # multiply step by step\n",
        "    i += 1\n",
        "\n",
        "print(f\"The factorial of {num} is {factorial}\")\n"
      ],
      "metadata": {
        "colab": {
          "base_uri": "https://localhost:8080/"
        },
        "id": "wJfaQzOHI7jX",
        "outputId": "edcef2c6-bb48-45af-eca0-d63c7b56a1ab"
      },
      "execution_count": null,
      "outputs": [
        {
          "output_type": "stream",
          "name": "stdout",
          "text": [
            "Enter a number: 5\n",
            "The factorial of 5 is 120\n"
          ]
        }
      ]
    }
  ]
}